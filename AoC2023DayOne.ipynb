{
  "metadata": {
    "language_info": {
      "codemirror_mode": {
        "name": "python",
        "version": 3
      },
      "file_extension": ".py",
      "mimetype": "text/x-python",
      "name": "python",
      "nbconvert_exporter": "python",
      "pygments_lexer": "ipython3",
      "version": "3.8"
    },
    "kernelspec": {
      "name": "python",
      "display_name": "Python (Pyodide)",
      "language": "python"
    }
  },
  "nbformat_minor": 4,
  "nbformat": 4,
  "cells": [
    {
      "cell_type": "code",
      "source": "#Syed Mahmood\n#Python Pyodide Kernel JupyterLite\n#AdventOfCode2023 Day One Solution\n\n#Part One\n\n\n#Open the file with Python\nmy_file = open(\"input.txt\", \"r\")\n#Read the file into a string\ndata = my_file.read()\n#Convert the string into a list object by splitting in each new line\ndata_converted_to_list = data.split(\"\\n\")\n\n#Value\nresult = 0\n\n#Iterate through each string\nfor line in data_converted_to_list:\n    #Iterate through each string and return all numbers\n    numbers = ''.join(number for number in line if number.isdigit())\n    #Skip to the next line if the list is empty\n    if not bool(numbers):\n        continue\n    #Concatenate only the first and last number, removing everything in the middle\n    numbers = numbers[0] + numbers[-1]\n    #Convert to an integer and add to the main result\n    result = result + int(numbers)\n    \nprint(result)",
      "metadata": {
        "trusted": true
      },
      "execution_count": 44,
      "outputs": [
        {
          "name": "stdout",
          "text": "53651\n",
          "output_type": "stream"
        }
      ]
    },
    {
      "cell_type": "code",
      "source": "#Part Two\n\n#Create a Dictionary to handle converting lettered numbers to numbers\n#Handle an edge case where two lettered numbers share the same beginning and end chars, e.g. twone is 21, by using the trick below in the values, e.g. o1e\nletter2num = {\n    \"one\": \"o1e\",\n    \"two\": \"t2o\",\n    \"three\": \"t3e\",\n    \"four\": \"f4r\",\n    \"five\": \"f5e\",\n    \"six\": \"s6x\",\n    \"seven\": \"s7n\",\n    \"eight\": \"e8t\",\n    \"nine\": \"n9e\",\n}\n\n#Reset the value\nresult=0\n\n#Iterate through each string\nfor line in data_converted_to_list:\n    #Convert any lettered numbers using our dictionary\n    for letter, num in letter2num.items():\n        line = line.replace(letter, num)\n    #Iterate through each string and return all numbers\n    numbers = ''.join(number for number in line if number.isdigit())\n    #Skip to the next line if the list is empty\n    if not bool(numbers):\n        continue\n    #Concatenate only the first and last number, removing everything in the middle\n    numbers = numbers[0] + numbers[-1]\n    #Convert to an integer and add\n    result = result + int(numbers)\n    \nprint(result)",
      "metadata": {
        "trusted": true
      },
      "execution_count": 45,
      "outputs": [
        {
          "name": "stdout",
          "text": "53894\n",
          "output_type": "stream"
        }
      ]
    },
    {
      "cell_type": "code",
      "source": "",
      "metadata": {},
      "execution_count": null,
      "outputs": []
    }
  ]
}